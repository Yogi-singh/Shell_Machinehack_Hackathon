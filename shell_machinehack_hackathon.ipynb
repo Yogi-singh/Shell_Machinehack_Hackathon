{
 "cells": [
  {
   "cell_type": "code",
   "execution_count": 4,
   "metadata": {},
   "outputs": [],
   "source": [
    "import openai\n",
    "import os\n",
    "from dotenv import load_dotenv, find_dotenv\n",
    "_ = load_dotenv(find_dotenv()) # read local .env file\n",
    "\n",
    "openai.api_key  = os.getenv('OPENAI_API_KEY')\n",
    "\n",
    "def get_completion(prompt, model=\"gpt-3.5-turbo-0613\"): \n",
    "    messages = [{\"role\": \"user\", \"content\": prompt}]\n",
    "    response = openai.ChatCompletion.create(\n",
    "        model=model,\n",
    "        messages=messages,\n",
    "        temperature=0, \n",
    "    )\n",
    "    return response.choices[0].message[\"content\"]\n",
    "\n",
    "def find_code(Text):\n",
    "    start_prompt = f'Extract the code snippet hidden in \\n\\n\\n{Text}\\n\\n\\n and if there is no code snippet, say no code present:'\n",
    "    \n",
    "    end_prompt = '\\n\\nExtracted Code: '\n",
    "    \n",
    "    prompt = start_prompt + end_prompt\n",
    "\n",
    "    code = get_completion(prompt)\n",
    "\n",
    "    return (code)"
   ]
  },
  {
   "cell_type": "code",
   "execution_count": 5,
   "metadata": {},
   "outputs": [],
   "source": [
    "Text = 'In software development, commenting code is a common and recommended practice. Comments are used to explain what the code does, why it does it, and how it does it. They make the code easier to understand and debug, especially for other developers who might be working on the same project. In C++, comments can be written as either single-line or multi-line comments. Single-line comments are written using two forward slashes (//), and everything to the right of the slashes is considered a comment. Multi-line comments are written using a forward slash and an asterisk (/*) to begin the comment, and an asterisk and a forward slash (*/) to end the comment.'"
   ]
  },
  {
   "cell_type": "code",
   "execution_count": 6,
   "metadata": {},
   "outputs": [
    {
     "data": {
      "text/plain": [
       "'no code present'"
      ]
     },
     "execution_count": 6,
     "metadata": {},
     "output_type": "execute_result"
    }
   ],
   "source": [
    "find_code(Text)"
   ]
  },
  {
   "cell_type": "markdown",
   "metadata": {},
   "source": [
    "# Loading DataSet"
   ]
  },
  {
   "cell_type": "code",
   "execution_count": 1,
   "metadata": {},
   "outputs": [
    {
     "data": {
      "text/plain": [
       "((532, 4), (531, 4), (845, 5), (1377, 5), (1063, 5))"
      ]
     },
     "execution_count": 1,
     "metadata": {},
     "output_type": "execute_result"
    }
   ],
   "source": [
    "import pandas as pd\n",
    "DataSet = pd.read_json(r\"C:\\Users\\Asus\\Downloads\\Participants_Dataset_SHPACT\\datafinal.json\")\n",
    "df_train = DataSet[(DataSet['ContainsCode']==True)].reset_index(drop=True)\n",
    "df_test = DataSet[(DataSet['ContainsCode']=='')].reset_index(drop=True)\n",
    "df_without_code = DataSet[(DataSet['ContainsCode']==False)].reset_index()\n",
    "Training_data = DataSet[(DataSet['ContainsCode']!='')].reset_index()\n",
    "Testing_data = DataSet[(DataSet['ContainsCode']!=False)].reset_index()\n",
    "df_train.shape,df_test.shape,df_without_code.shape,Training_data.shape,Testing_data.shape"
   ]
  },
  {
   "cell_type": "code",
   "execution_count": 6,
   "metadata": {
    "scrolled": true
   },
   "outputs": [],
   "source": [
    "df_test['CodeList'] = df_test['Text'].apply(lambda text:find_code(text))"
   ]
  },
  {
   "cell_type": "code",
   "execution_count": 7,
   "metadata": {},
   "outputs": [],
   "source": [
    "# df.to_csv(\"Shell_comp_All_GPT_work2.csv\",index=False)\n",
    "# df_new.to_csv(\"Shell_comp_All_GPT_work.csv\",index=False)"
   ]
  },
  {
   "cell_type": "code",
   "execution_count": 25,
   "metadata": {},
   "outputs": [],
   "source": [
    "# pd.read_csv(\"Shell_comp_All_GPT_work.csv\")#[1040:1065]"
   ]
  },
  {
   "cell_type": "code",
   "execution_count": 27,
   "metadata": {},
   "outputs": [],
   "source": [
    "# pd.read_csv(\"Shell_comp_All_GPT_work.csv\").isnull().sum()"
   ]
  },
  {
   "cell_type": "code",
   "execution_count": 28,
   "metadata": {},
   "outputs": [],
   "source": [
    "# import numpy as np\n",
    "# np.where(pd.read_csv(\"Shell_comp_All_GPT_work.csv\")['CodeList'].isnull()==True)"
   ]
  },
  {
   "cell_type": "code",
   "execution_count": 26,
   "metadata": {},
   "outputs": [],
   "source": [
    "df_test.isnull().sum()"
   ]
  },
  {
   "cell_type": "code",
   "execution_count": 17,
   "metadata": {},
   "outputs": [
    {
     "data": {
      "text/plain": [
       "0"
      ]
     },
     "execution_count": 17,
     "metadata": {},
     "output_type": "execute_result"
    }
   ],
   "source": [
    "(df_test['CodeList']=='').sum()"
   ]
  },
  {
   "cell_type": "code",
   "execution_count": 19,
   "metadata": {
    "scrolled": true
   },
   "outputs": [],
   "source": [
    "\n",
    "for ind,code_str in enumerate(df_test['CodeList']):\n",
    "    if 'no code pres' in code_str.lower():\n",
    "        df_test['CodeList'][ind] = (df_test['CodeList'][ind].replace(code_str,' '))\n",
    "        "
   ]
  },
  {
   "cell_type": "code",
   "execution_count": 404,
   "metadata": {},
   "outputs": [
    {
     "data": {
      "text/plain": [
       "0"
      ]
     },
     "execution_count": 404,
     "metadata": {},
     "output_type": "execute_result"
    }
   ],
   "source": [
    "count = 0\n",
    "for ind,code_str in enumerate(df_test['CodeList']):\n",
    "    if 'no code pres' in code_str.lower():\n",
    "        count+=1\n",
    "count"
   ]
  },
  {
   "cell_type": "code",
   "execution_count": 24,
   "metadata": {},
   "outputs": [],
   "source": [
    "df_res = df_test.merge(Training_data,'outer').sort_values(by = 'ID').reset_index(drop=True)[['ID','Text','ContainsCode','CodeList']]"
   ]
  },
  {
   "cell_type": "code",
   "execution_count": 457,
   "metadata": {},
   "outputs": [],
   "source": [
    "from sklearn.preprocessing import MultiLabelBinarizer\n",
    "mlb = MultiLabelBinarizer()\n",
    "s1 = df_res[\"CodeList\"]\n",
    "t1 = mlb.fit_transform(s1)\n",
    "\n",
    "from sklearn.preprocessing import MultiLabelBinarizer\n",
    "mlb2 = MultiLabelBinarizer()\n",
    "s2 = DataSet[\"CodeList\"]\n",
    "t2 = mlb2.fit_transform(s2)"
   ]
  },
  {
   "cell_type": "code",
   "execution_count": 21,
   "metadata": {},
   "outputs": [],
   "source": [
    "print(\"Classes Present for results:\")\n",
    "print(mlb.classes_)\n",
    "print(\"Classes Present for DataSet:\")\n",
    "print(mlb2.classes_)\n",
    "print(\"Classes size for results: \",len(mlb.classes_))\n",
    "print(\"Classes size for DataSet: \",len(mlb2.classes_))"
   ]
  },
  {
   "cell_type": "code",
   "execution_count": 23,
   "metadata": {},
   "outputs": [],
   "source": [
    "for ind,string in enumerate(s1):\n",
    "    if ('\\n' in string):\n",
    "         s1[ind] = (s1[ind].replace('\\n','\\\\n'))\n",
    "    if '\\t' in string:\n",
    "        s1[ind] = (s1[ind].replace('\\t','\\\\t'))        "
   ]
  },
  {
   "cell_type": "code",
   "execution_count": 108,
   "metadata": {},
   "outputs": [
    {
     "data": {
      "text/plain": [
       "RangeIndex(start=0, stop=93, step=1)"
      ]
     },
     "execution_count": 108,
     "metadata": {},
     "output_type": "execute_result"
    }
   ],
   "source": [
    "t1 = mlb.fit_transform(s1)\n",
    "submission = pd.DataFrame(t1)\n",
    "submission.columns"
   ]
  },
  {
   "cell_type": "code",
   "execution_count": 109,
   "metadata": {},
   "outputs": [],
   "source": [
    "submission.to_csv(\"submission.csv\",index=False)"
   ]
  }
 ],
 "metadata": {
  "kernelspec": {
   "display_name": "Pytorch_kernel",
   "language": "python",
   "name": "pytorch"
  },
  "language_info": {
   "codemirror_mode": {
    "name": "ipython",
    "version": 3
   },
   "file_extension": ".py",
   "mimetype": "text/x-python",
   "name": "python",
   "nbconvert_exporter": "python",
   "pygments_lexer": "ipython3",
   "version": "3.11.4"
  }
 },
 "nbformat": 4,
 "nbformat_minor": 2
}
